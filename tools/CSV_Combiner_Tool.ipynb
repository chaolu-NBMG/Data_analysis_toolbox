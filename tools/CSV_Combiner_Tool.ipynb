{
 "cells": [
  {
   "cell_type": "markdown",
   "id": "f168c8d8-962f-4f63-bc0c-37421ed70265",
   "metadata": {},
   "source": [
    "# Introduction\n",
    "This script consolidates multiple CSV files within a single directory into one CSV file, while preserving their structure and headers. If the files are spread across different directories or have varied structures, modifications to the script will be necessary. Here’s an overview of how it operates:"
   ]
  },
  {
   "cell_type": "markdown",
   "id": "3ed71227-992f-42c2-be86-1a98c4c99464",
   "metadata": {},
   "source": [
    "## Imports and Setup\n",
    "The script imports the necessary libraries: Pandas for data manipulation and OS for operating system interaction. It also defines variables to store the paths of the CSV files."
   ]
  },
  {
   "cell_type": "code",
   "execution_count": 1,
   "id": "ec798a09-7c97-4675-8e21-cde6ba3927fc",
   "metadata": {},
   "outputs": [],
   "source": [
    "import pandas as pd\n",
    "import os"
   ]
  },
  {
   "cell_type": "markdown",
   "id": "3226bbd9-d3cc-4fb9-9aa0-22a10f118c59",
   "metadata": {},
   "source": [
    "## File Discovery:\n",
    "The script allows for easy switching between using the current directory and specifying a custom path. You can uncomment the appropriate line for the directory you want to use."
   ]
  },
  {
   "cell_type": "code",
   "execution_count": 2,
   "id": "254ddc4e-97d4-49b2-ad21-458c6a21bdf7",
   "metadata": {},
   "outputs": [],
   "source": [
    "# Uncomment the line below to use the current working directory\n",
    "# path = '.'\n",
    "\n",
    "# Uncomment and modify the line below to specify a different directory\n",
    "path = r'C:\\Users\\chaolu\\Project folder\\INGENIOUS\\Dixie Valley\\Dixie Valley Excel\\Final version'"
   ]
  },
  {
   "cell_type": "markdown",
   "id": "4b27cebf-56dd-4dbc-a634-48a679e1e6e9",
   "metadata": {},
   "source": [
    "The script checks if a file named \"Combined output.csv\" already exists in the directory. This prevents accidentally overwriting existing data. If the file already exists, a warning message is displayed, advising the user to either remove or rename the existing file before running the script to avoid potential data loss."
   ]
  },
  {
   "cell_type": "code",
   "execution_count": 3,
   "id": "7b165b2b-8d43-4731-a9d3-a21b4e9b8c24",
   "metadata": {},
   "outputs": [
    {
     "name": "stdout",
     "output_type": "stream",
     "text": [
      "No 'Combined output.csv' file found in the directory. It is safe to proceed with the script.\n"
     ]
    }
   ],
   "source": [
    "# Get the list of all CSV files in the specified directory\n",
    "csv_files = [f for f in os.listdir(path) if f.endswith('.csv')]\n",
    "# Check if \"Combined output.csv\" already exists in the directory\n",
    "if \"Combined output.csv\" in csv_files:\n",
    "    print(\"Warning: 'Combined output.csv' already exists in the directory. \"\n",
    "          \"Please remove or rename the existing file before running the script.\")\n",
    "else:\n",
    "    print(\"No 'Combined output.csv' file found in the directory. It is safe to proceed with the script.\")"
   ]
  },
  {
   "cell_type": "markdown",
   "id": "1f241cd7-a70b-415f-ba96-2bfbf3546b24",
   "metadata": {},
   "source": [
    "It searches for CSV files in the specified directory and checks how many are found.If no CSV files are found, the script raises an error with a descriptive message. If CSV files are found, it prints the total number."
   ]
  },
  {
   "cell_type": "code",
   "execution_count": 4,
   "id": "4146550f-3f60-4a31-a52e-cb8d5e06985f",
   "metadata": {},
   "outputs": [
    {
     "name": "stdout",
     "output_type": "stream",
     "text": [
      "Total CSV files found: 7\n",
      "Listing CSV files:\n",
      "45-5 Water Analysis Reports_CL2.csv\n",
      "52-18 Water Analysis Reports_CL2.csv\n",
      "62-21 Water Analysis Reports_CL2.csv\n",
      "65-18 Water Analysis Reports_CL2.csv\n",
      "84-7 Water Analysis Reports_CL2.csv\n",
      "S.W.LAMB #1 Water Analysis Reports_CL2.csv\n",
      "S.W.LAMB #3 Water Analysis Reports_CL2.csv\n"
     ]
    }
   ],
   "source": [
    "# Check the number of CSV files found\n",
    "num_files = len(csv_files)\n",
    "\n",
    "# Ensure there is at least one CSV file\n",
    "if num_files == 0:\n",
    "    raise ValueError(\"No CSV files found in the directory: \" + path)\n",
    "else:\n",
    "    print(f\"Total CSV files found: {num_files}\")\n",
    "\n",
    "# List CSV files if 10 or fewer are found\n",
    "if num_files <= 10:\n",
    "    print(\"Listing CSV files:\")\n",
    "    for file in csv_files:\n",
    "        print(file)"
   ]
  },
  {
   "cell_type": "markdown",
   "id": "d2677338-a5f1-44b5-9bb1-82ee7a5d25fa",
   "metadata": {},
   "source": [
    "## Read Initial File\n",
    "The script reads the first CSV file to retrieve column names, which are used to ensure consistency when reading additional files."
   ]
  },
  {
   "cell_type": "code",
   "execution_count": 5,
   "id": "0f1c0be7-b077-4886-acaa-317ed75ccfcf",
   "metadata": {},
   "outputs": [],
   "source": [
    "# Read the first file to get the column names\n",
    "first_file = pd.read_csv(os.path.join(path, csv_files[0]))\n",
    "# Initialize a list to store dataframes, starting with the first file\n",
    "df_list = [first_file]"
   ]
  },
  {
   "cell_type": "markdown",
   "id": "5ecc378f-bd0c-4245-a9d9-d948d8418191",
   "metadata": {},
   "source": [
    "## Reading Remaining Files\n",
    "For each subsequent CSV file, it reads the data using the column names from the first file as headers. This step skips the actual header row of these files to avoid header duplication."
   ]
  },
  {
   "cell_type": "code",
   "execution_count": 6,
   "id": "c8f00634-221f-4567-8f44-fdd35d1459ca",
   "metadata": {},
   "outputs": [],
   "source": [
    "# Read remaining files using the column names from the first file and skip the header\n",
    "for file in csv_files[1:]:\n",
    "    file_path = os.path.join(path, file)\n",
    "    df = pd.read_csv(file_path, names=first_file.columns, header=0)\n",
    "    df_list.append(df)"
   ]
  },
  {
   "cell_type": "markdown",
   "id": "5d867a5c-a69d-4dfd-ad90-4ab86fa4e698",
   "metadata": {},
   "source": [
    "## Concatenation\n",
    "All dataframes are concatenated into a single dataframe, effectively merging all CSV files into one."
   ]
  },
  {
   "cell_type": "code",
   "execution_count": 7,
   "id": "fb4dfee8-3331-461b-b142-d547a5419c56",
   "metadata": {},
   "outputs": [],
   "source": [
    "# Concatenate all dataframes\n",
    "final_df = pd.concat(df_list, ignore_index=True)"
   ]
  },
  {
   "cell_type": "markdown",
   "id": "8f905d08-4746-44b7-9e8f-170976374d05",
   "metadata": {},
   "source": [
    "## Save Output\n",
    "The combined dataframe is then saved to a new CSV file named 'Combined output.csv', without including row indices."
   ]
  },
  {
   "cell_type": "code",
   "execution_count": 8,
   "id": "10328982-3cba-4dda-913d-fb2d031b0f0c",
   "metadata": {},
   "outputs": [
    {
     "name": "stdout",
     "output_type": "stream",
     "text": [
      "Combined output saved to: C:\\Users\\chaolu\\Project folder\\INGENIOUS\\Dixie Valley\\Dixie Valley Excel\\Final version\\Combined output.csv\n"
     ]
    }
   ],
   "source": [
    "# Save the concatenated dataframe to a new CSV file\n",
    "output_file_path = os.path.join(path, 'Combined output.csv')\n",
    "final_df.to_csv(output_file_path, index=False)\n",
    "print(\"Combined output saved to:\", output_file_path)"
   ]
  }
 ],
 "metadata": {
  "kernelspec": {
   "display_name": "Python 3 (ipykernel)",
   "language": "python",
   "name": "python3"
  },
  "language_info": {
   "codemirror_mode": {
    "name": "ipython",
    "version": 3
   },
   "file_extension": ".py",
   "mimetype": "text/x-python",
   "name": "python",
   "nbconvert_exporter": "python",
   "pygments_lexer": "ipython3",
   "version": "3.12.2"
  }
 },
 "nbformat": 4,
 "nbformat_minor": 5
}
